{
 "cells": [
  {
   "cell_type": "code",
   "execution_count": 1,
   "id": "7db1a597",
   "metadata": {},
   "outputs": [
    {
     "name": "stdout",
     "output_type": "stream",
     "text": [
      "^C\n",
      "Note: you may need to restart the kernel to use updated packages.\n"
     ]
    },
    {
     "name": "stdout",
     "output_type": "stream",
     "text": [
      "Defaulting to user installation because normal site-packages is not writeable\n",
      "Requirement already satisfied: fastapi in c:\\users\\user\\appdata\\roaming\\python\\python313\\site-packages (0.115.12)\n",
      "Requirement already satisfied: uvicorn in c:\\users\\user\\appdata\\roaming\\python\\python313\\site-packages (0.34.0)\n",
      "Requirement already satisfied: nest_asyncio in c:\\users\\user\\appdata\\roaming\\python\\python313\\site-packages (1.6.0)\n",
      "Requirement already satisfied: wikipedia in c:\\users\\user\\appdata\\roaming\\python\\python313\\site-packages (1.4.0)\n",
      "Requirement already satisfied: google-api-python-client in c:\\users\\user\\appdata\\roaming\\python\\python313\\site-packages (2.166.0)\n",
      "Requirement already satisfied: starlette<0.47.0,>=0.40.0 in c:\\users\\user\\appdata\\roaming\\python\\python313\\site-packages (from fastapi) (0.46.1)\n",
      "Requirement already satisfied: pydantic!=1.8,!=1.8.1,!=2.0.0,!=2.0.1,!=2.1.0,<3.0.0,>=1.7.4 in c:\\users\\user\\appdata\\roaming\\python\\python313\\site-packages (from fastapi) (2.11.2)\n",
      "Requirement already satisfied: typing-extensions>=4.8.0 in c:\\users\\user\\appdata\\roaming\\python\\python313\\site-packages (from fastapi) (4.13.1)\n",
      "Requirement already satisfied: click>=7.0 in c:\\users\\user\\appdata\\roaming\\python\\python313\\site-packages (from uvicorn) (8.1.8)\n",
      "Requirement already satisfied: h11>=0.8 in c:\\users\\user\\appdata\\roaming\\python\\python313\\site-packages (from uvicorn) (0.14.0)\n",
      "Requirement already satisfied: beautifulsoup4 in c:\\users\\user\\appdata\\roaming\\python\\python313\\site-packages (from wikipedia) (4.13.3)\n",
      "Requirement already satisfied: requests<3.0.0,>=2.0.0 in c:\\users\\user\\appdata\\roaming\\python\\python313\\site-packages (from wikipedia) (2.32.3)\n",
      "Requirement already satisfied: httplib2<1.0.0,>=0.19.0 in c:\\users\\user\\appdata\\roaming\\python\\python313\\site-packages (from google-api-python-client) (0.22.0)\n",
      "Requirement already satisfied: google-auth!=2.24.0,!=2.25.0,<3.0.0,>=1.32.0 in c:\\users\\user\\appdata\\roaming\\python\\python313\\site-packages (from google-api-python-client) (2.38.0)\n",
      "Requirement already satisfied: google-auth-httplib2<1.0.0,>=0.2.0 in c:\\users\\user\\appdata\\roaming\\python\\python313\\site-packages (from google-api-python-client) (0.2.0)\n",
      "Requirement already satisfied: google-api-core!=2.0.*,!=2.1.*,!=2.2.*,!=2.3.0,<3.0.0,>=1.31.5 in c:\\users\\user\\appdata\\roaming\\python\\python313\\site-packages (from google-api-python-client) (2.24.2)\n",
      "Requirement already satisfied: uritemplate<5,>=3.0.1 in c:\\users\\user\\appdata\\roaming\\python\\python313\\site-packages (from google-api-python-client) (4.1.1)\n",
      "Requirement already satisfied: colorama in c:\\users\\user\\appdata\\roaming\\python\\python313\\site-packages (from click>=7.0->uvicorn) (0.4.6)\n",
      "Requirement already satisfied: googleapis-common-protos<2.0.0,>=1.56.2 in c:\\users\\user\\appdata\\roaming\\python\\python313\\site-packages (from google-api-core!=2.0.*,!=2.1.*,!=2.2.*,!=2.3.0,<3.0.0,>=1.31.5->google-api-python-client) (1.69.2)\n",
      "Requirement already satisfied: protobuf!=3.20.0,!=3.20.1,!=4.21.0,!=4.21.1,!=4.21.2,!=4.21.3,!=4.21.4,!=4.21.5,<7.0.0,>=3.19.5 in c:\\users\\user\\appdata\\roaming\\python\\python313\\site-packages (from google-api-core!=2.0.*,!=2.1.*,!=2.2.*,!=2.3.0,<3.0.0,>=1.31.5->google-api-python-client) (6.30.2)\n",
      "Requirement already satisfied: proto-plus<2.0.0,>=1.22.3 in c:\\users\\user\\appdata\\roaming\\python\\python313\\site-packages (from google-api-core!=2.0.*,!=2.1.*,!=2.2.*,!=2.3.0,<3.0.0,>=1.31.5->google-api-python-client) (1.26.1)\n",
      "Requirement already satisfied: cachetools<6.0,>=2.0.0 in c:\\users\\user\\appdata\\roaming\\python\\python313\\site-packages (from google-auth!=2.24.0,!=2.25.0,<3.0.0,>=1.32.0->google-api-python-client) (5.5.2)\n",
      "Requirement already satisfied: pyasn1-modules>=0.2.1 in c:\\users\\user\\appdata\\roaming\\python\\python313\\site-packages (from google-auth!=2.24.0,!=2.25.0,<3.0.0,>=1.32.0->google-api-python-client) (0.4.2)\n",
      "Requirement already satisfied: rsa<5,>=3.1.4 in c:\\users\\user\\appdata\\roaming\\python\\python313\\site-packages (from google-auth!=2.24.0,!=2.25.0,<3.0.0,>=1.32.0->google-api-python-client) (4.9)\n",
      "Requirement already satisfied: pyparsing!=3.0.0,!=3.0.1,!=3.0.2,!=3.0.3,<4,>=2.4.2 in c:\\users\\user\\appdata\\roaming\\python\\python313\\site-packages (from httplib2<1.0.0,>=0.19.0->google-api-python-client) (3.2.3)\n",
      "Requirement already satisfied: annotated-types>=0.6.0 in c:\\users\\user\\appdata\\roaming\\python\\python313\\site-packages (from pydantic!=1.8,!=1.8.1,!=2.0.0,!=2.0.1,!=2.1.0,<3.0.0,>=1.7.4->fastapi) (0.7.0)\n",
      "Requirement already satisfied: pydantic-core==2.33.1 in c:\\users\\user\\appdata\\roaming\\python\\python313\\site-packages (from pydantic!=1.8,!=1.8.1,!=2.0.0,!=2.0.1,!=2.1.0,<3.0.0,>=1.7.4->fastapi) (2.33.1)\n",
      "Requirement already satisfied: typing-inspection>=0.4.0 in c:\\users\\user\\appdata\\roaming\\python\\python313\\site-packages (from pydantic!=1.8,!=1.8.1,!=2.0.0,!=2.0.1,!=2.1.0,<3.0.0,>=1.7.4->fastapi) (0.4.0)\n",
      "Requirement already satisfied: charset-normalizer<4,>=2 in c:\\users\\user\\appdata\\roaming\\python\\python313\\site-packages (from requests<3.0.0,>=2.0.0->wikipedia) (3.4.1)\n",
      "Requirement already satisfied: idna<4,>=2.5 in c:\\users\\user\\appdata\\roaming\\python\\python313\\site-packages (from requests<3.0.0,>=2.0.0->wikipedia) (3.10)\n",
      "Requirement already satisfied: urllib3<3,>=1.21.1 in c:\\users\\user\\appdata\\roaming\\python\\python313\\site-packages (from requests<3.0.0,>=2.0.0->wikipedia) (2.3.0)\n",
      "Requirement already satisfied: certifi>=2017.4.17 in c:\\users\\user\\appdata\\roaming\\python\\python313\\site-packages (from requests<3.0.0,>=2.0.0->wikipedia) (2025.1.31)\n",
      "Requirement already satisfied: anyio<5,>=3.6.2 in c:\\users\\user\\appdata\\roaming\\python\\python313\\site-packages (from starlette<0.47.0,>=0.40.0->fastapi) (4.9.0)\n",
      "Requirement already satisfied: soupsieve>1.2 in c:\\users\\user\\appdata\\roaming\\python\\python313\\site-packages (from beautifulsoup4->wikipedia) (2.6)\n",
      "Requirement already satisfied: sniffio>=1.1 in c:\\users\\user\\appdata\\roaming\\python\\python313\\site-packages (from anyio<5,>=3.6.2->starlette<0.47.0,>=0.40.0->fastapi) (1.3.1)\n",
      "Requirement already satisfied: pyasn1<0.7.0,>=0.6.1 in c:\\users\\user\\appdata\\roaming\\python\\python313\\site-packages (from pyasn1-modules>=0.2.1->google-auth!=2.24.0,!=2.25.0,<3.0.0,>=1.32.0->google-api-python-client) (0.6.1)\n"
     ]
    },
    {
     "name": "stderr",
     "output_type": "stream",
     "text": [
      "\n",
      "[notice] A new release of pip is available: 25.0.1 -> 25.1.1\n",
      "[notice] To update, run: python.exe -m pip install --upgrade pip\n"
     ]
    }
   ],
   "source": [
    "%pip install fastapi uvicorn nest_asyncio wikipedia google-api-python-client\n"
   ]
  },
  {
   "cell_type": "code",
   "execution_count": null,
   "id": "220d6b93",
   "metadata": {},
   "outputs": [],
   "source": [
    "from fastapi import FastAPI\n",
    "from fastapi.middleware.cors import CORSMiddleware\n",
    "import wikipedia\n",
    "from wikipedia.exceptions import DisambiguationError, PageError\n",
    "import nest_asyncio\n",
    "import uvicorn\n",
    "\n",
    "# Allow FastAPI to run in Jupyter\n",
    "nest_asyncio.apply()\n",
    "\n",
    "app = FastAPI()\n",
    "\n",
    "# CORS config\n",
    "from fastapi.middleware.cors import CORSMiddleware\n",
    "\n",
    "app.add_middleware(\n",
    "    CORSMiddleware,\n",
    "    allow_origins=[\"http://localhost:5173\", \"http://127.0.0.1:5173\"], \n",
    "    allow_credentials=True,\n",
    "    allow_methods=[\"*\"],\n",
    "    allow_headers=[\"*\"],\n",
    ")\n",
    "\n",
    "\n",
    "@app.get(\"/\")\n",
    "def welcome():\n",
    "    return {\"message\": \"API is running!\"}\n",
    "\n",
    "def search_wikipedia(query, level):\n",
    "    try:\n",
    "        page = wikipedia.page(query)\n",
    "        summary = page.summary\n",
    "        wiki_url = page.url\n",
    "\n",
    "        sentences = summary.split(\". \")\n",
    "        beginner = \". \".join(sentences[:2]) + \".\"\n",
    "        intermediate = \". \".join(sentences[:4]) + \".\"\n",
    "        advanced = summary\n",
    "\n",
    "        if level == \"beginner\":\n",
    "            return beginner, wiki_url\n",
    "        elif level == \"intermediate\":\n",
    "            return intermediate, wiki_url\n",
    "        elif level == \"advanced\":\n",
    "            return advanced, wiki_url\n",
    "        else:\n",
    "            return \"Invalid level. Choose beginner, intermediate, or advanced.\", \"\"\n",
    "\n",
    "    except DisambiguationError as e:\n",
    "        return f\"Multiple topics found for '{query}'. Please be more specific.\", \"\"\n",
    "    except PageError:\n",
    "        return f\"No Wikipedia page found for '{query}'.\", \"\"\n",
    "    except Exception as e:\n",
    "        return f\"An error occurred: {str(e)}\", \"\"\n",
    "\n",
    "@app.get(\"/ask/\")\n",
    "def ask_question(question: str, level: str = \"beginner\"):\n",
    "    answer, wiki_url = search_wikipedia(question, level)\n",
    "\n",
    "    return {\n",
    "        \"question\": question,\n",
    "        \"level\": level,\n",
    "        \"answer\": answer,\n",
    "        \"videos\": f\"https://www.youtube.com/results?search_query={question}+{level}\",\n",
    "        \"pdf_search\": f\"https://www.google.com/search?q={question}+{level}+filetype:pdf\",\n",
    "        \"wikipedia_link\": wiki_url\n",
    "    }\n",
    "\n",
    "if __name__ == \"__main__\":\n",
    "    uvicorn.run(app, host=\"127.0.0.1\", port=3000)\n"
   ]
  }
 ],
 "metadata": {
  "kernelspec": {
   "display_name": "Python 3",
   "language": "python",
   "name": "python3"
  },
  "language_info": {
   "codemirror_mode": {
    "name": "ipython",
    "version": 3
   },
   "file_extension": ".py",
   "mimetype": "text/x-python",
   "name": "python",
   "nbconvert_exporter": "python",
   "pygments_lexer": "ipython3",
   "version": "3.13.2"
  }
 },
 "nbformat": 4,
 "nbformat_minor": 5
}
